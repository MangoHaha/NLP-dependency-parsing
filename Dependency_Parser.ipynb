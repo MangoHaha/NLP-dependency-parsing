{
  "nbformat": 4,
  "nbformat_minor": 0,
  "metadata": {
    "colab": {
      "name": "Dependency_Parser.ipynb",
      "version": "0.3.2",
      "provenance": [],
      "collapsed_sections": [],
      "include_colab_link": true
    },
    "kernelspec": {
      "name": "python2",
      "display_name": "Python 2"
    }
  },
  "cells": [
    {
      "cell_type": "markdown",
      "metadata": {
        "id": "view-in-github",
        "colab_type": "text"
      },
      "source": [
        "<a href=\"https://colab.research.google.com/github/MangoHaha/NLP-dependency-parsing/blob/master/Dependency_Parser.ipynb\" target=\"_parent\"><img src=\"https://colab.research.google.com/assets/colab-badge.svg\" alt=\"Open In Colab\"/></a>"
      ]
    },
    {
      "cell_type": "code",
      "metadata": {
        "id": "rTNI4SD8tmmk",
        "colab_type": "code",
        "outputId": "88a0e482-8605-427c-ebf2-aecef9a1159c",
        "colab": {
          "base_uri": "https://localhost:8080/",
          "height": 121
        }
      },
      "source": [
        "from google.colab import drive\n",
        "drive.mount('/content/drive')"
      ],
      "execution_count": 1,
      "outputs": [
        {
          "output_type": "stream",
          "text": [
            "Go to this URL in a browser: https://accounts.google.com/o/oauth2/auth?client_id=947318989803-6bn6qk8qdgf4n4g3pfee6491hc0brc4i.apps.googleusercontent.com&redirect_uri=urn%3Aietf%3Awg%3Aoauth%3A2.0%3Aoob&scope=email%20https%3A%2F%2Fwww.googleapis.com%2Fauth%2Fdocs.test%20https%3A%2F%2Fwww.googleapis.com%2Fauth%2Fdrive%20https%3A%2F%2Fwww.googleapis.com%2Fauth%2Fdrive.photos.readonly%20https%3A%2F%2Fwww.googleapis.com%2Fauth%2Fpeopleapi.readonly&response_type=code\n",
            "\n",
            "Enter your authorization code:\n",
            "··········\n",
            "Mounted at /content/drive\n"
          ],
          "name": "stdout"
        }
      ]
    },
    {
      "cell_type": "code",
      "metadata": {
        "id": "xYuAgrsNT4XW",
        "colab_type": "code",
        "colab": {
          "base_uri": "https://localhost:8080/",
          "height": 154
        },
        "outputId": "87a0f34f-858d-4325-a5a3-134a938b81d7"
      },
      "source": [
        "!pip install dynet\n"
      ],
      "execution_count": 2,
      "outputs": [
        {
          "output_type": "stream",
          "text": [
            "Collecting dynet\n",
            "\u001b[?25l  Downloading https://files.pythonhosted.org/packages/65/2c/6b773466b4cca5092b3fac49969011a720e6ca7b01bcfd286ac412a62971/dyNET-2.1-cp27-cp27mu-manylinux1_x86_64.whl (27.9MB)\n",
            "\u001b[K     |████████████████████████████████| 27.9MB 60.8MB/s \n",
            "\u001b[?25hRequirement already satisfied: numpy in /usr/local/lib/python2.7/dist-packages (from dynet) (1.16.3)\n",
            "Requirement already satisfied: cython in /usr/local/lib/python2.7/dist-packages (from dynet) (0.29.7)\n",
            "Installing collected packages: dynet\n",
            "Successfully installed dynet-2.1\n"
          ],
          "name": "stdout"
        }
      ]
    },
    {
      "cell_type": "code",
      "metadata": {
        "id": "hXoklQCeyWUw",
        "colab_type": "code",
        "colab": {}
      },
      "source": [
        "import pandas as pd\n",
        "import numpy as np\n"
      ],
      "execution_count": 0,
      "outputs": []
    },
    {
      "cell_type": "code",
      "metadata": {
        "id": "vVoUMjpYyAS2",
        "colab_type": "code",
        "colab": {}
      },
      "source": [
        "class DataSet:\n",
        "  \n",
        "  \n",
        "  def __init__(self): \n",
        "    self.dev_data = pd.read_csv('/content/drive/My Drive/NLP/data/dev.data', sep=\" \", header=None)\n",
        "    self.train_data = pd.read_csv('/content/drive/My Drive/NLP/data/train.data', sep=\" \", header=None)\n",
        "    self.vocabs_action = pd.read_csv('/content/drive/My Drive/NLP/data/vocabs.actions', sep=\" \", header=None)\n",
        "    self.vocabs_pos = pd.read_csv('/content/drive/My Drive/NLP/data/vocabs.pos', sep=\" \", header=None)\n",
        "    self.vocabs_label = pd.read_csv('/content/drive/My Drive/NLP/data/vocabs.labels', sep=\" \", header=None)\n",
        "    self.vocabs_word = pd.read_csv('/content/drive/My Drive/NLP/data/vocabs.word', sep=\" \", header=None)\n",
        "    self.word_train = self.prepare_data(self.train_data, self.vocabs_word, 0, 20)\n",
        "    self.pos_train = self.prepare_data(self.train_data, self.vocabs_pos, 20, 40)\n",
        "    self.label_train = self.prepare_data(self.train_data, self.vocabs_label, 40, 52)\n",
        "    self.action_train = self.prepare_data(self.train_data, self.vocabs_action, 52, 53)\n",
        "    self.word_dev = self.prepare_data(self.dev_data, self.vocabs_word, 0, 20)\n",
        "    self.pos_dev = self.prepare_data(self.dev_data, self.vocabs_pos, 20, 40)\n",
        "    self.label_dev = self.prepare_data(self.dev_data, self.vocabs_label, 40, 52)\n",
        "    self.action_dev = self.prepare_data(self.dev_data, self.vocabs_action, 52, 53)\n",
        "\n",
        "  def prepare_data(self, data, vocabs, start, end):\n",
        "    sub_data = data.iloc[:,start:end]\n",
        "    voc = dict(zip(vocabs.iloc[:,0], vocabs.iloc[:,1]))\n",
        "    new_array = []\n",
        "    for line in sub_data.itertuples():\n",
        "    #for line in sub_data.itertuples():\n",
        "      cur_array = []\n",
        "      for word in line[1:]:\n",
        "        if word in voc:\n",
        "          cur_array.append(voc.get(word))\n",
        "        else:\n",
        "          cur_array.append(0)\n",
        "      new_array.append(cur_array)\n",
        "    return pd.DataFrame(new_array)\n",
        "  \n",
        "  def prepare_data_predict(self, data, vocabs, start, end):\n",
        "    sub_data = data[start:end]\n",
        "    voc = dict(zip(vocabs.iloc[:,0], vocabs.iloc[:,1]))\n",
        "    new_array = []\n",
        "    #for line in sub_data.head(20).itertuples():\n",
        "    for word in sub_data:\n",
        "      if word in voc:\n",
        "        new_array.append(voc.get(word))\n",
        "      else:\n",
        "        new_array.append(1)\n",
        "    return pd.DataFrame(new_array)\n"
      ],
      "execution_count": 0,
      "outputs": []
    },
    {
      "cell_type": "code",
      "metadata": {
        "id": "EWmAk093IrN0",
        "colab_type": "code",
        "colab": {}
      },
      "source": [
        "class NetProperties:\n",
        "    def __init__(self, word_embed_dim, pos_embed_dim, label_embed_dim, hidden_dim, minibatch_size, epoch):\n",
        "        self.word_embed_dim = word_embed_dim\n",
        "        self.pos_embed_dim = pos_embed_dim\n",
        "        self.label_embed_dim = label_embed_dim\n",
        "        self.hidden_dim = hidden_dim\n",
        "        self.minibatch_size = minibatch_size\n",
        "        self.epoch = epoch"
      ],
      "execution_count": 0,
      "outputs": []
    },
    {
      "cell_type": "code",
      "metadata": {
        "id": "U2q8gqLwIsle",
        "colab_type": "code",
        "colab": {}
      },
      "source": [
        "import dynet as dynet\n",
        "import random\n",
        "import matplotlib.pyplot as plt\n",
        "import numpy as np\n",
        "\n",
        "class Network:\n",
        "    def __init__(self, properties, dataset):\n",
        "        self.properties = properties\n",
        "        self.dataset = dataset\n",
        "\n",
        "        # first initialize a computation graph container (or model).\n",
        "        self.model = dynet.Model()\n",
        "\n",
        "        # assign the algorithm for backpropagation updates.\n",
        "        self.updater = dynet.AdamTrainer(self.model)\n",
        "\n",
        "        # create embeddings for words and tag features.\n",
        "        self.word_embedding = self.model.add_lookup_parameters((dataset.vocabs_word.shape[0], properties.word_embed_dim))\n",
        "        self.pos_embedding = self.model.add_lookup_parameters((dataset.vocabs_pos.shape[0], properties.pos_embed_dim))\n",
        "        self.label_embedding = self.model.add_lookup_parameters((dataset.vocabs_label.shape[0], properties.label_embed_dim))\n",
        "\n",
        "\n",
        "        # assign transfer function \n",
        "        self.transfer = dynet.rectify  # can be dynet.logistic or dynet.tanh as well.\n",
        "\n",
        "        # define the input dimension for the embedding layer.\n",
        "        # here we assume to see two words after and before and current word (meaning 5 word embeddings)\n",
        "        # and to see the last two predicted tags (meaning two tag embeddings)\n",
        "        self.input_dim = 20 * (properties.word_embed_dim + properties.pos_embed_dim) + 12*properties.label_embed_dim\n",
        "\n",
        "\n",
        "        # define the hidden layer.\n",
        "        self.hidden_layer1 = self.model.add_parameters((properties.hidden_dim, self.input_dim))\n",
        "\n",
        "        # define the hidden layer bias term and initialize it as constant 0.2.\n",
        "        self.hidden_layer_bias1 = self.model.add_parameters(properties.hidden_dim, init=dynet.ConstInitializer(0.2))\n",
        "        \n",
        "        # define the hidden layer.\n",
        "        self.hidden_layer2 = self.model.add_parameters((properties.hidden_dim, properties.hidden_dim))\n",
        "\n",
        "        # define the hidden layer bias term and initialize it as constant 0.2.\n",
        "        self.hidden_layer_bias2 = self.model.add_parameters(properties.hidden_dim, init=dynet.ConstInitializer(0.2))\n",
        "\n",
        "        # define the output weight.\n",
        "        self.output_layer = self.model.add_parameters((dataset.vocabs_action.shape[0], properties.hidden_dim))\n",
        "\n",
        "        # define the bias vector and initialize it as zero.\n",
        "        self.output_bias = self.model.add_parameters(dataset.vocabs_action.shape[0], init=dynet.ConstInitializer(0))\n",
        "\n",
        "    def build_graph(self,index, word, pos, label):\n",
        "\n",
        "        # extract word embeddings and tag embeddings from features\n",
        "        word_embeds = [self.word_embedding[wid] for wid in word.iloc[index]]\n",
        "        pos_embeds = [self.pos_embedding[wid] for wid in pos.iloc[index]]\n",
        "        label_embeds = [self.label_embedding[wid] for wid in label.iloc[index]]\n",
        "\n",
        "        # concatenating all features (recall that '+' for lists is equivalent to appending two lists)\n",
        "        embedding_layer = dynet.concatenate(word_embeds + pos_embeds + label_embeds)\n",
        "        # calculating the hidden layer\n",
        "        # .expr() converts a parameter to a matrix expression in dynet (its a dynet-specific syntax).\n",
        "        hidden1 = self.transfer(self.hidden_layer1 * embedding_layer + self.hidden_layer_bias1)\n",
        "        hidden2 = self.transfer(self.hidden_layer2 * hidden1 + self.hidden_layer_bias2)\n",
        "\n",
        "        # calculating the output layer\n",
        "        output = self.output_layer * hidden2 + self.output_bias.expr()\n",
        "\n",
        "        # return the output as a dynet vector (expression)\n",
        "        return output\n",
        "\n",
        "      \n",
        "    def predict(self, word, pos, label):\n",
        "     \n",
        "        word_embeds = [self.word_embedding[wid] for wid in word]\n",
        "        pos_embeds = [self.pos_embedding[wid] for wid in pos]\n",
        "        label_embeds = [self.label_embedding[wid] for wid in label]\n",
        "        # concatenating all features (recall that '+' for lists is equivalent to appending two lists)\n",
        "        embedding_layer = dynet.concatenate(word_embeds + pos_embeds + label_embeds)\n",
        "        # calculating the hidden layer\n",
        "        # .expr() converts a parameter to a matrix expression in dynet (its a dynet-specific syntax).\n",
        "        hidden1 = self.transfer(self.hidden_layer1 * embedding_layer + self.hidden_layer_bias1)\n",
        "        hidden2 = self.transfer(self.hidden_layer2 * hidden1 + self.hidden_layer_bias2)\n",
        "\n",
        "        # calculating the output layer\n",
        "        output = self.output_layer.expr() * hidden2 + self.output_bias.expr()\n",
        "\n",
        "        # return the output as a dynet vector (expression)\n",
        "        return output\n",
        "    def train(self):\n",
        "        # matplotlib config\n",
        "        loss_values = []\n",
        "        plt.ion()\n",
        "        ax = plt.gca()\n",
        "        ax.set_xlim([0, 10])\n",
        "        ax.set_ylim([0, 3])\n",
        "        plt.title(\"Loss over time\")\n",
        "        plt.xlabel(\"Minibatch\")\n",
        "        plt.ylabel(\"Loss\")\n",
        "\n",
        "        for i in range(self.properties.epoch):\n",
        "            print 'started epoch', (i+1)\n",
        "            losses = []\n",
        "\n",
        "            step = 0\n",
        "            for index in range(dataset.word_train.shape[0]):\n",
        "                gold_label = dataset.action_train.iloc[index]\n",
        "                result = self.build_graph(index, dataset.word_train, dataset.pos_train, dataset.label_train)\n",
        "\n",
        "                # getting loss with respect to negative log softmax function and the gold label.\n",
        "                loss = dynet.pickneglogsoftmax(result, gold_label)\n",
        "\n",
        "                # appending to the minibatch losses\n",
        "                losses.append(loss)\n",
        "                step += 1\n",
        "                if len(losses) >= self.properties.minibatch_size:\n",
        "                    # now we have enough loss values to get loss for minibatch\n",
        "                    minibatch_loss = dynet.esum(losses) / len(losses)\n",
        "\n",
        "                    # calling dynet to run forward computation for all minibatch items\n",
        "                    minibatch_loss.forward()\n",
        "\n",
        "                    # getting float value of the loss for current minibatch\n",
        "                    minibatch_loss_value = minibatch_loss.value()\n",
        "\n",
        "                    # printing info and plotting\n",
        "                    loss_values.append(minibatch_loss_value)\n",
        "                    if len(loss_values)%10==0:\n",
        "                        ax.set_xlim([0, len(loss_values)+10])\n",
        "                        ax.plot(loss_values)\n",
        "                        plt.draw()\n",
        "                        plt.pause(0.0001)\n",
        "                        progress = round(100 * float(step) / len(dataset.train_data), 2)\n",
        "                        print 'current minibatch loss', minibatch_loss_value, 'progress:', progress, '%'\n",
        "\n",
        "                    # calling dynet to run backpropagation\n",
        "                    minibatch_loss.backward()\n",
        "\n",
        "                    # calling dynet to change parameter values with respect to current backpropagation\n",
        "                    self.updater.update()\n",
        "\n",
        "                    # empty the loss vector\n",
        "                    losses = []\n",
        "\n",
        "                    # refresh the memory of dynet\n",
        "                    dynet.renew_cg()\n",
        "\n",
        "            # there are still some minibatch items in the memory but they are smaller than the minibatch size\n",
        "            # so we ask dynet to forget them\n",
        "            dynet.renew_cg()\n",
        "\n",
        "    def decode(self, word_dev, pos_dev, label_dev):\n",
        "\n",
        "            # running forward\n",
        "        word_dev.values.reshape(-1)\n",
        "        output = self.predict(word_dev.values.reshape(-1).tolist(), pos_dev.values.reshape(-1).tolist(), label_dev.values.reshape(-1).tolist())\n",
        "\n",
        "            # getting list value of the output\n",
        "        scores = output.npvalue()\n",
        "\n",
        "            # refresh dynet memory (computation graph)\n",
        "        dynet.renew_cg()\n",
        "\n",
        "        return scores\n",
        "    \n",
        "    def get_oh_encoder(self, input, vocabs):\n",
        "      onehot_encoded = []\n",
        "      for index in input:\n",
        "        letter = [0 for _ in range(len(vocabs))]\n",
        "        letter[index] = 1\n",
        "        onehot_encoded.append(letter)\n",
        "      return onehot_encoded;\n",
        "\n",
        "    def load(self, filename):\n",
        "        self.model.populate(filename)\n",
        "\n",
        "    def save(self, filename):\n",
        "        self.model.save(filename)"
      ],
      "execution_count": 0,
      "outputs": []
    },
    {
      "cell_type": "code",
      "metadata": {
        "id": "y1glAYi2UJnD",
        "colab_type": "code",
        "outputId": "ed886f64-9188-4f97-f189-a93edeaa8261",
        "colab": {
          "base_uri": "https://localhost:8080/",
          "height": 3756
        }
      },
      "source": [
        "prop = NetProperties(64, 32, 32, 200, 1000, 7)\n",
        "dataset = DataSet();\n",
        "network = Network(prop, dataset)\n",
        "network.train()\n",
        "network.save(\"/content/drive/My Drive/NLP/model.md5\")"
      ],
      "execution_count": 7,
      "outputs": [
        {
          "output_type": "stream",
          "text": [
            "started epoch 1\n"
          ],
          "name": "stdout"
        },
        {
          "output_type": "display_data",
          "data": {
            "image/png": "[encoded data removed]",
            "text/plain": [
              "<Figure size 432x288 with 1 Axes>"
            ]
          },
          "metadata": {
            "tags": []
          }
        },
        {
          "output_type": "stream",
          "text": [
            "current minibatch loss 2.46577548981 progress: 6.96 %\n"
          ],
          "name": "stdout"
        },
        {
          "output_type": "display_data",
          "data": {
            "text/plain": [
              "<Figure size 432x288 with 0 Axes>"
            ]
          },
          "metadata": {
            "tags": []
          }
        },
        {
          "output_type": "stream",
          "text": [
            "current minibatch loss 2.0609703064 progress: 13.91 %\n"
          ],
          "name": "stdout"
        },
        {
          "output_type": "display_data",
          "data": {
            "text/plain": [
              "<Figure size 432x288 with 0 Axes>"
            ]
          },
          "metadata": {
            "tags": []
          }
        },
        {
          "output_type": "stream",
          "text": [
            "current minibatch loss 1.71325838566 progress: 20.87 %\n"
          ],
          "name": "stdout"
        },
        {
          "output_type": "display_data",
          "data": {
            "text/plain": [
              "<Figure size 432x288 with 0 Axes>"
            ]
          },
          "metadata": {
            "tags": []
          }
        },
        {
          "output_type": "stream",
          "text": [
            "current minibatch loss 1.56978929043 progress: 27.82 %\n"
          ],
          "name": "stdout"
        },
        {
          "output_type": "display_data",
          "data": {
            "text/plain": [
              "<Figure size 432x288 with 0 Axes>"
            ]
          },
          "metadata": {
            "tags": []
          }
        },
        {
          "output_type": "stream",
          "text": [
            "current minibatch loss 1.28269231319 progress: 34.78 %\n"
          ],
          "name": "stdout"
        },
        {
          "output_type": "display_data",
          "data": {
            "text/plain": [
              "<Figure size 432x288 with 0 Axes>"
            ]
          },
          "metadata": {
            "tags": []
          }
        },
        {
          "output_type": "stream",
          "text": [
            "current minibatch loss 1.06371879578 progress: 41.74 %\n"
          ],
          "name": "stdout"
        },
        {
          "output_type": "display_data",
          "data": {
            "text/plain": [
              "<Figure size 432x288 with 0 Axes>"
            ]
          },
          "metadata": {
            "tags": []
          }
        },
        {
          "output_type": "stream",
          "text": [
            "current minibatch loss 1.0273617506 progress: 48.69 %\n"
          ],
          "name": "stdout"
        },
        {
          "output_type": "display_data",
          "data": {
            "text/plain": [
              "<Figure size 432x288 with 0 Axes>"
            ]
          },
          "metadata": {
            "tags": []
          }
        },
        {
          "output_type": "stream",
          "text": [
            "current minibatch loss 0.838744282722 progress: 55.65 %\n"
          ],
          "name": "stdout"
        },
        {
          "output_type": "display_data",
          "data": {
            "text/plain": [
              "<Figure size 432x288 with 0 Axes>"
            ]
          },
          "metadata": {
            "tags": []
          }
        },
        {
          "output_type": "stream",
          "text": [
            "current minibatch loss 0.796062409878 progress: 62.61 %\n"
          ],
          "name": "stdout"
        },
        {
          "output_type": "display_data",
          "data": {
            "text/plain": [
              "<Figure size 432x288 with 0 Axes>"
            ]
          },
          "metadata": {
            "tags": []
          }
        },
        {
          "output_type": "stream",
          "text": [
            "current minibatch loss 0.66247189045 progress: 69.56 %\n"
          ],
          "name": "stdout"
        },
        {
          "output_type": "display_data",
          "data": {
            "text/plain": [
              "<Figure size 432x288 with 0 Axes>"
            ]
          },
          "metadata": {
            "tags": []
          }
        },
        {
          "output_type": "stream",
          "text": [
            "current minibatch loss 0.643863022327 progress: 76.52 %\n"
          ],
          "name": "stdout"
        },
        {
          "output_type": "display_data",
          "data": {
            "text/plain": [
              "<Figure size 432x288 with 0 Axes>"
            ]
          },
          "metadata": {
            "tags": []
          }
        },
        {
          "output_type": "stream",
          "text": [
            "current minibatch loss 0.531295597553 progress: 83.47 %\n"
          ],
          "name": "stdout"
        },
        {
          "output_type": "display_data",
          "data": {
            "text/plain": [
              "<Figure size 432x288 with 0 Axes>"
            ]
          },
          "metadata": {
            "tags": []
          }
        },
        {
          "output_type": "stream",
          "text": [
            "current minibatch loss 0.498505502939 progress: 90.43 %\n"
          ],
          "name": "stdout"
        },
        {
          "output_type": "display_data",
          "data": {
            "text/plain": [
              "<Figure size 432x288 with 0 Axes>"
            ]
          },
          "metadata": {
            "tags": []
          }
        },
        {
          "output_type": "stream",
          "text": [
            "current minibatch loss 0.481091558933 progress: 97.39 %\n",
            "started epoch 2\n"
          ],
          "name": "stdout"
        },
        {
          "output_type": "display_data",
          "data": {
            "text/plain": [
              "<Figure size 432x288 with 0 Axes>"
            ]
          },
          "metadata": {
            "tags": []
          }
        },
        {
          "output_type": "stream",
          "text": [
            "current minibatch loss 0.372200787067 progress: 4.87 %\n"
          ],
          "name": "stdout"
        },
        {
          "output_type": "display_data",
          "data": {
            "text/plain": [
              "<Figure size 432x288 with 0 Axes>"
            ]
          },
          "metadata": {
            "tags": []
          }
        },
        {
          "output_type": "stream",
          "text": [
            "current minibatch loss 0.392675161362 progress: 11.83 %\n"
          ],
          "name": "stdout"
        },
        {
          "output_type": "display_data",
          "data": {
            "text/plain": [
              "<Figure size 432x288 with 0 Axes>"
            ]
          },
          "metadata": {
            "tags": []
          }
        },
        {
          "output_type": "stream",
          "text": [
            "current minibatch loss 0.427028179169 progress: 18.78 %\n"
          ],
          "name": "stdout"
        },
        {
          "output_type": "display_data",
          "data": {
            "text/plain": [
              "<Figure size 432x288 with 0 Axes>"
            ]
          },
          "metadata": {
            "tags": []
          }
        },
        {
          "output_type": "stream",
          "text": [
            "current minibatch loss 0.361395716667 progress: 25.74 %\n"
          ],
          "name": "stdout"
        },
        {
          "output_type": "display_data",
          "data": {
            "text/plain": [
              "<Figure size 432x288 with 0 Axes>"
            ]
          },
          "metadata": {
            "tags": []
          }
        },
        {
          "output_type": "stream",
          "text": [
            "current minibatch loss 0.397033512592 progress: 32.69 %\n"
          ],
          "name": "stdout"
        },
        {
          "output_type": "display_data",
          "data": {
            "text/plain": [
              "<Figure size 432x288 with 0 Axes>"
            ]
          },
          "metadata": {
            "tags": []
          }
        },
        {
          "output_type": "stream",
          "text": [
            "current minibatch loss 0.271503925323 progress: 39.65 %\n"
          ],
          "name": "stdout"
        },
        {
          "output_type": "display_data",
          "data": {
            "text/plain": [
              "<Figure size 432x288 with 0 Axes>"
            ]
          },
          "metadata": {
            "tags": []
          }
        },
        {
          "output_type": "stream",
          "text": [
            "current minibatch loss 0.330214321613 progress: 46.61 %\n"
          ],
          "name": "stdout"
        },
        {
          "output_type": "display_data",
          "data": {
            "text/plain": [
              "<Figure size 432x288 with 0 Axes>"
            ]
          },
          "metadata": {
            "tags": []
          }
        },
        {
          "output_type": "stream",
          "text": [
            "current minibatch loss 0.375449717045 progress: 53.56 %\n"
          ],
          "name": "stdout"
        },
        {
          "output_type": "display_data",
          "data": {
            "text/plain": [
              "<Figure size 432x288 with 0 Axes>"
            ]
          },
          "metadata": {
            "tags": []
          }
        },
        {
          "output_type": "stream",
          "text": [
            "current minibatch loss 0.264687627554 progress: 60.52 %\n"
          ],
          "name": "stdout"
        },
        {
          "output_type": "display_data",
          "data": {
            "text/plain": [
              "<Figure size 432x288 with 0 Axes>"
            ]
          },
          "metadata": {
            "tags": []
          }
        },
        {
          "output_type": "stream",
          "text": [
            "current minibatch loss 0.325984627008 progress: 67.47 %\n"
          ],
          "name": "stdout"
        },
        {
          "output_type": "display_data",
          "data": {
            "text/plain": [
              "<Figure size 432x288 with 0 Axes>"
            ]
          },
          "metadata": {
            "tags": []
          }
        },
        {
          "output_type": "stream",
          "text": [
            "current minibatch loss 0.276827037334 progress: 74.43 %\n"
          ],
          "name": "stdout"
        },
        {
          "output_type": "display_data",
          "data": {
            "text/plain": [
              "<Figure size 432x288 with 0 Axes>"
            ]
          },
          "metadata": {
            "tags": []
          }
        },
        {
          "output_type": "stream",
          "text": [
            "current minibatch loss 0.208815842867 progress: 81.39 %\n"
          ],
          "name": "stdout"
        },
        {
          "output_type": "display_data",
          "data": {
            "text/plain": [
              "<Figure size 432x288 with 0 Axes>"
            ]
          },
          "metadata": {
            "tags": []
          }
        },
        {
          "output_type": "stream",
          "text": [
            "current minibatch loss 0.265823155642 progress: 88.34 %\n"
          ],
          "name": "stdout"
        },
        {
          "output_type": "display_data",
          "data": {
            "text/plain": [
              "<Figure size 432x288 with 0 Axes>"
            ]
          },
          "metadata": {
            "tags": []
          }
        },
        {
          "output_type": "stream",
          "text": [
            "current minibatch loss 0.239824011922 progress: 95.3 %\n",
            "started epoch 3\n"
          ],
          "name": "stdout"
        },
        {
          "output_type": "display_data",
          "data": {
            "text/plain": [
              "<Figure size 432x288 with 0 Axes>"
            ]
          },
          "metadata": {
            "tags": []
          }
        },
        {
          "output_type": "stream",
          "text": [
            "current minibatch loss 0.389732569456 progress: 2.78 %\n"
          ],
          "name": "stdout"
        },
        {
          "output_type": "display_data",
          "data": {
            "text/plain": [
              "<Figure size 432x288 with 0 Axes>"
            ]
          },
          "metadata": {
            "tags": []
          }
        },
        {
          "output_type": "stream",
          "text": [
            "current minibatch loss 0.270324528217 progress: 9.74 %\n"
          ],
          "name": "stdout"
        },
        {
          "output_type": "display_data",
          "data": {
            "text/plain": [
              "<Figure size 432x288 with 0 Axes>"
            ]
          },
          "metadata": {
            "tags": []
          }
        },
        {
          "output_type": "stream",
          "text": [
            "current minibatch loss 0.237268462777 progress: 16.69 %\n"
          ],
          "name": "stdout"
        },
        {
          "output_type": "display_data",
          "data": {
            "text/plain": [
              "<Figure size 432x288 with 0 Axes>"
            ]
          },
          "metadata": {
            "tags": []
          }
        },
        {
          "output_type": "stream",
          "text": [
            "current minibatch loss 0.308732181787 progress: 23.65 %\n"
          ],
          "name": "stdout"
        },
        {
          "output_type": "display_data",
          "data": {
            "text/plain": [
              "<Figure size 432x288 with 0 Axes>"
            ]
          },
          "metadata": {
            "tags": []
          }
        },
        {
          "output_type": "stream",
          "text": [
            "current minibatch loss 0.219885736704 progress: 30.61 %\n"
          ],
          "name": "stdout"
        },
        {
          "output_type": "display_data",
          "data": {
            "text/plain": [
              "<Figure size 432x288 with 0 Axes>"
            ]
          },
          "metadata": {
            "tags": []
          }
        },
        {
          "output_type": "stream",
          "text": [
            "current minibatch loss 0.270651191473 progress: 37.56 %\n"
          ],
          "name": "stdout"
        },
        {
          "output_type": "display_data",
          "data": {
            "text/plain": [
              "<Figure size 432x288 with 0 Axes>"
            ]
          },
          "metadata": {
            "tags": []
          }
        },
        {
          "output_type": "stream",
          "text": [
            "current minibatch loss 0.235553145409 progress: 44.52 %\n"
          ],
          "name": "stdout"
        },
        {
          "output_type": "display_data",
          "data": {
            "text/plain": [
              "<Figure size 432x288 with 0 Axes>"
            ]
          },
          "metadata": {
            "tags": []
          }
        },
        {
          "output_type": "stream",
          "text": [
            "current minibatch loss 0.217580080032 progress: 51.48 %\n"
          ],
          "name": "stdout"
        },
        {
          "output_type": "display_data",
          "data": {
            "text/plain": [
              "<Figure size 432x288 with 0 Axes>"
            ]
          },
          "metadata": {
            "tags": []
          }
        },
        {
          "output_type": "stream",
          "text": [
            "current minibatch loss 0.222918048501 progress: 58.43 %\n"
          ],
          "name": "stdout"
        },
        {
          "output_type": "display_data",
          "data": {
            "text/plain": [
              "<Figure size 432x288 with 0 Axes>"
            ]
          },
          "metadata": {
            "tags": []
          }
        },
        {
          "output_type": "stream",
          "text": [
            "current minibatch loss 0.243247538805 progress: 65.39 %\n"
          ],
          "name": "stdout"
        },
        {
          "output_type": "display_data",
          "data": {
            "text/plain": [
              "<Figure size 432x288 with 0 Axes>"
            ]
          },
          "metadata": {
            "tags": []
          }
        },
        {
          "output_type": "stream",
          "text": [
            "current minibatch loss 0.206035465002 progress: 72.34 %\n"
          ],
          "name": "stdout"
        },
        {
          "output_type": "display_data",
          "data": {
            "text/plain": [
              "<Figure size 432x288 with 0 Axes>"
            ]
          },
          "metadata": {
            "tags": []
          }
        },
        {
          "output_type": "stream",
          "text": [
            "current minibatch loss 0.219192102551 progress: 79.3 %\n"
          ],
          "name": "stdout"
        },
        {
          "output_type": "display_data",
          "data": {
            "text/plain": [
              "<Figure size 432x288 with 0 Axes>"
            ]
          },
          "metadata": {
            "tags": []
          }
        },
        {
          "output_type": "stream",
          "text": [
            "current minibatch loss 0.144303992391 progress: 86.26 %\n"
          ],
          "name": "stdout"
        },
        {
          "output_type": "display_data",
          "data": {
            "text/plain": [
              "<Figure size 432x288 with 0 Axes>"
            ]
          },
          "metadata": {
            "tags": []
          }
        },
        {
          "output_type": "stream",
          "text": [
            "current minibatch loss 0.197092399001 progress: 93.21 %\n",
            "started epoch 4\n"
          ],
          "name": "stdout"
        },
        {
          "output_type": "display_data",
          "data": {
            "text/plain": [
              "<Figure size 432x288 with 0 Axes>"
            ]
          },
          "metadata": {
            "tags": []
          }
        },
        {
          "output_type": "stream",
          "text": [
            "current minibatch loss 0.197608396411 progress: 0.7 %\n"
          ],
          "name": "stdout"
        },
        {
          "output_type": "display_data",
          "data": {
            "text/plain": [
              "<Figure size 432x288 with 0 Axes>"
            ]
          },
          "metadata": {
            "tags": []
          }
        },
        {
          "output_type": "stream",
          "text": [
            "current minibatch loss 0.294702529907 progress: 7.65 %\n"
          ],
          "name": "stdout"
        },
        {
          "output_type": "display_data",
          "data": {
            "text/plain": [
              "<Figure size 432x288 with 0 Axes>"
            ]
          },
          "metadata": {
            "tags": []
          }
        },
        {
          "output_type": "stream",
          "text": [
            "current minibatch loss 0.176983162761 progress: 14.61 %\n"
          ],
          "name": "stdout"
        },
        {
          "output_type": "display_data",
          "data": {
            "text/plain": [
              "<Figure size 432x288 with 0 Axes>"
            ]
          },
          "metadata": {
            "tags": []
          }
        },
        {
          "output_type": "stream",
          "text": [
            "current minibatch loss 0.183460876346 progress: 21.56 %\n"
          ],
          "name": "stdout"
        },
        {
          "output_type": "display_data",
          "data": {
            "text/plain": [
              "<Figure size 432x288 with 0 Axes>"
            ]
          },
          "metadata": {
            "tags": []
          }
        },
        {
          "output_type": "stream",
          "text": [
            "current minibatch loss 0.165936350822 progress: 28.52 %\n"
          ],
          "name": "stdout"
        },
        {
          "output_type": "display_data",
          "data": {
            "text/plain": [
              "<Figure size 432x288 with 0 Axes>"
            ]
          },
          "metadata": {
            "tags": []
          }
        },
        {
          "output_type": "stream",
          "text": [
            "current minibatch loss 0.176420390606 progress: 35.48 %\n"
          ],
          "name": "stdout"
        },
        {
          "output_type": "display_data",
          "data": {
            "text/plain": [
              "<Figure size 432x288 with 0 Axes>"
            ]
          },
          "metadata": {
            "tags": []
          }
        },
        {
          "output_type": "stream",
          "text": [
            "current minibatch loss 0.195149317384 progress: 42.43 %\n"
          ],
          "name": "stdout"
        },
        {
          "output_type": "display_data",
          "data": {
            "text/plain": [
              "<Figure size 432x288 with 0 Axes>"
            ]
          },
          "metadata": {
            "tags": []
          }
        },
        {
          "output_type": "stream",
          "text": [
            "current minibatch loss 0.17452827096 progress: 49.39 %\n"
          ],
          "name": "stdout"
        },
        {
          "output_type": "display_data",
          "data": {
            "text/plain": [
              "<Figure size 432x288 with 0 Axes>"
            ]
          },
          "metadata": {
            "tags": []
          }
        },
        {
          "output_type": "stream",
          "text": [
            "current minibatch loss 0.183362320065 progress: 56.34 %\n"
          ],
          "name": "stdout"
        },
        {
          "output_type": "display_data",
          "data": {
            "text/plain": [
              "<Figure size 432x288 with 0 Axes>"
            ]
          },
          "metadata": {
            "tags": []
          }
        },
        {
          "output_type": "stream",
          "text": [
            "current minibatch loss 0.239885255694 progress: 63.3 %\n"
          ],
          "name": "stdout"
        },
        {
          "output_type": "display_data",
          "data": {
            "text/plain": [
              "<Figure size 432x288 with 0 Axes>"
            ]
          },
          "metadata": {
            "tags": []
          }
        },
        {
          "output_type": "stream",
          "text": [
            "current minibatch loss 0.169144868851 progress: 70.26 %\n"
          ],
          "name": "stdout"
        },
        {
          "output_type": "display_data",
          "data": {
            "text/plain": [
              "<Figure size 432x288 with 0 Axes>"
            ]
          },
          "metadata": {
            "tags": []
          }
        },
        {
          "output_type": "stream",
          "text": [
            "current minibatch loss 0.150233954191 progress: 77.21 %\n"
          ],
          "name": "stdout"
        },
        {
          "output_type": "display_data",
          "data": {
            "text/plain": [
              "<Figure size 432x288 with 0 Axes>"
            ]
          },
          "metadata": {
            "tags": []
          }
        },
        {
          "output_type": "stream",
          "text": [
            "current minibatch loss 0.218889981508 progress: 84.17 %\n"
          ],
          "name": "stdout"
        },
        {
          "output_type": "display_data",
          "data": {
            "text/plain": [
              "<Figure size 432x288 with 0 Axes>"
            ]
          },
          "metadata": {
            "tags": []
          }
        },
        {
          "output_type": "stream",
          "text": [
            "current minibatch loss 0.161377370358 progress: 91.13 %\n"
          ],
          "name": "stdout"
        },
        {
          "output_type": "display_data",
          "data": {
            "text/plain": [
              "<Figure size 432x288 with 0 Axes>"
            ]
          },
          "metadata": {
            "tags": []
          }
        },
        {
          "output_type": "stream",
          "text": [
            "current minibatch loss 0.151854410768 progress: 98.08 %\n",
            "started epoch 5\n"
          ],
          "name": "stdout"
        },
        {
          "output_type": "display_data",
          "data": {
            "text/plain": [
              "<Figure size 432x288 with 0 Axes>"
            ]
          },
          "metadata": {
            "tags": []
          }
        },
        {
          "output_type": "stream",
          "text": [
            "current minibatch loss 0.184493452311 progress: 5.56 %\n"
          ],
          "name": "stdout"
        },
        {
          "output_type": "display_data",
          "data": {
            "text/plain": [
              "<Figure size 432x288 with 0 Axes>"
            ]
          },
          "metadata": {
            "tags": []
          }
        },
        {
          "output_type": "stream",
          "text": [
            "current minibatch loss 0.182179838419 progress: 12.52 %\n"
          ],
          "name": "stdout"
        },
        {
          "output_type": "display_data",
          "data": {
            "text/plain": [
              "<Figure size 432x288 with 0 Axes>"
            ]
          },
          "metadata": {
            "tags": []
          }
        },
        {
          "output_type": "stream",
          "text": [
            "current minibatch loss 0.176259353757 progress: 19.48 %\n"
          ],
          "name": "stdout"
        },
        {
          "output_type": "display_data",
          "data": {
            "text/plain": [
              "<Figure size 432x288 with 0 Axes>"
            ]
          },
          "metadata": {
            "tags": []
          }
        },
        {
          "output_type": "stream",
          "text": [
            "current minibatch loss 0.174677342176 progress: 26.43 %\n"
          ],
          "name": "stdout"
        },
        {
          "output_type": "display_data",
          "data": {
            "text/plain": [
              "<Figure size 432x288 with 0 Axes>"
            ]
          },
          "metadata": {
            "tags": []
          }
        },
        {
          "output_type": "stream",
          "text": [
            "current minibatch loss 0.115101248026 progress: 33.39 %\n"
          ],
          "name": "stdout"
        },
        {
          "output_type": "display_data",
          "data": {
            "text/plain": [
              "<Figure size 432x288 with 0 Axes>"
            ]
          },
          "metadata": {
            "tags": []
          }
        },
        {
          "output_type": "stream",
          "text": [
            "current minibatch loss 0.142594635487 progress: 40.35 %\n"
          ],
          "name": "stdout"
        },
        {
          "output_type": "display_data",
          "data": {
            "text/plain": [
              "<Figure size 432x288 with 0 Axes>"
            ]
          },
          "metadata": {
            "tags": []
          }
        },
        {
          "output_type": "stream",
          "text": [
            "current minibatch loss 0.152706637979 progress: 47.3 %\n"
          ],
          "name": "stdout"
        },
        {
          "output_type": "display_data",
          "data": {
            "text/plain": [
              "<Figure size 432x288 with 0 Axes>"
            ]
          },
          "metadata": {
            "tags": []
          }
        },
        {
          "output_type": "stream",
          "text": [
            "current minibatch loss 0.136087372899 progress: 54.26 %\n"
          ],
          "name": "stdout"
        },
        {
          "output_type": "display_data",
          "data": {
            "text/plain": [
              "<Figure size 432x288 with 0 Axes>"
            ]
          },
          "metadata": {
            "tags": []
          }
        },
        {
          "output_type": "stream",
          "text": [
            "current minibatch loss 0.171212255955 progress: 61.21 %\n"
          ],
          "name": "stdout"
        },
        {
          "output_type": "display_data",
          "data": {
            "text/plain": [
              "<Figure size 432x288 with 0 Axes>"
            ]
          },
          "metadata": {
            "tags": []
          }
        },
        {
          "output_type": "stream",
          "text": [
            "current minibatch loss 0.145720556378 progress: 68.17 %\n"
          ],
          "name": "stdout"
        },
        {
          "output_type": "display_data",
          "data": {
            "text/plain": [
              "<Figure size 432x288 with 0 Axes>"
            ]
          },
          "metadata": {
            "tags": []
          }
        },
        {
          "output_type": "stream",
          "text": [
            "current minibatch loss 0.139583989978 progress: 75.13 %\n"
          ],
          "name": "stdout"
        },
        {
          "output_type": "display_data",
          "data": {
            "text/plain": [
              "<Figure size 432x288 with 0 Axes>"
            ]
          },
          "metadata": {
            "tags": []
          }
        },
        {
          "output_type": "stream",
          "text": [
            "current minibatch loss 0.136905506253 progress: 82.08 %\n"
          ],
          "name": "stdout"
        },
        {
          "output_type": "display_data",
          "data": {
            "text/plain": [
              "<Figure size 432x288 with 0 Axes>"
            ]
          },
          "metadata": {
            "tags": []
          }
        },
        {
          "output_type": "stream",
          "text": [
            "current minibatch loss 0.157804757357 progress: 89.04 %\n"
          ],
          "name": "stdout"
        },
        {
          "output_type": "display_data",
          "data": {
            "text/plain": [
              "<Figure size 432x288 with 0 Axes>"
            ]
          },
          "metadata": {
            "tags": []
          }
        },
        {
          "output_type": "stream",
          "text": [
            "current minibatch loss 0.110720232129 progress: 95.99 %\n",
            "started epoch 6\n"
          ],
          "name": "stdout"
        },
        {
          "output_type": "display_data",
          "data": {
            "text/plain": [
              "<Figure size 432x288 with 0 Axes>"
            ]
          },
          "metadata": {
            "tags": []
          }
        },
        {
          "output_type": "stream",
          "text": [
            "current minibatch loss 0.144805207849 progress: 3.48 %\n"
          ],
          "name": "stdout"
        },
        {
          "output_type": "display_data",
          "data": {
            "text/plain": [
              "<Figure size 432x288 with 0 Axes>"
            ]
          },
          "metadata": {
            "tags": []
          }
        },
        {
          "output_type": "stream",
          "text": [
            "current minibatch loss 0.16120198369 progress: 10.43 %\n"
          ],
          "name": "stdout"
        },
        {
          "output_type": "display_data",
          "data": {
            "text/plain": [
              "<Figure size 432x288 with 0 Axes>"
            ]
          },
          "metadata": {
            "tags": []
          }
        },
        {
          "output_type": "stream",
          "text": [
            "current minibatch loss 0.271465212107 progress: 17.39 %\n"
          ],
          "name": "stdout"
        },
        {
          "output_type": "display_data",
          "data": {
            "text/plain": [
              "<Figure size 432x288 with 0 Axes>"
            ]
          },
          "metadata": {
            "tags": []
          }
        },
        {
          "output_type": "stream",
          "text": [
            "current minibatch loss 0.136849939823 progress: 24.35 %\n"
          ],
          "name": "stdout"
        },
        {
          "output_type": "display_data",
          "data": {
            "text/plain": [
              "<Figure size 432x288 with 0 Axes>"
            ]
          },
          "metadata": {
            "tags": []
          }
        },
        {
          "output_type": "stream",
          "text": [
            "current minibatch loss 0.146217092872 progress: 31.3 %\n"
          ],
          "name": "stdout"
        },
        {
          "output_type": "display_data",
          "data": {
            "text/plain": [
              "<Figure size 432x288 with 0 Axes>"
            ]
          },
          "metadata": {
            "tags": []
          }
        },
        {
          "output_type": "stream",
          "text": [
            "current minibatch loss 0.152160435915 progress: 38.26 %\n"
          ],
          "name": "stdout"
        },
        {
          "output_type": "display_data",
          "data": {
            "text/plain": [
              "<Figure size 432x288 with 0 Axes>"
            ]
          },
          "metadata": {
            "tags": []
          }
        },
        {
          "output_type": "stream",
          "text": [
            "current minibatch loss 0.162357315421 progress: 45.21 %\n"
          ],
          "name": "stdout"
        },
        {
          "output_type": "display_data",
          "data": {
            "text/plain": [
              "<Figure size 432x288 with 0 Axes>"
            ]
          },
          "metadata": {
            "tags": []
          }
        },
        {
          "output_type": "stream",
          "text": [
            "current minibatch loss 0.167550876737 progress: 52.17 %\n"
          ],
          "name": "stdout"
        },
        {
          "output_type": "display_data",
          "data": {
            "text/plain": [
              "<Figure size 432x288 with 0 Axes>"
            ]
          },
          "metadata": {
            "tags": []
          }
        },
        {
          "output_type": "stream",
          "text": [
            "current minibatch loss 0.131992906332 progress: 59.13 %\n"
          ],
          "name": "stdout"
        },
        {
          "output_type": "display_data",
          "data": {
            "text/plain": [
              "<Figure size 432x288 with 0 Axes>"
            ]
          },
          "metadata": {
            "tags": []
          }
        },
        {
          "output_type": "stream",
          "text": [
            "current minibatch loss 0.113823309541 progress: 66.08 %\n"
          ],
          "name": "stdout"
        },
        {
          "output_type": "display_data",
          "data": {
            "text/plain": [
              "<Figure size 432x288 with 0 Axes>"
            ]
          },
          "metadata": {
            "tags": []
          }
        },
        {
          "output_type": "stream",
          "text": [
            "current minibatch loss 0.140468910336 progress: 73.04 %\n"
          ],
          "name": "stdout"
        },
        {
          "output_type": "display_data",
          "data": {
            "text/plain": [
              "<Figure size 432x288 with 0 Axes>"
            ]
          },
          "metadata": {
            "tags": []
          }
        },
        {
          "output_type": "stream",
          "text": [
            "current minibatch loss 0.0842242464423 progress: 80.0 %\n"
          ],
          "name": "stdout"
        },
        {
          "output_type": "display_data",
          "data": {
            "text/plain": [
              "<Figure size 432x288 with 0 Axes>"
            ]
          },
          "metadata": {
            "tags": []
          }
        },
        {
          "output_type": "stream",
          "text": [
            "current minibatch loss 0.077254794538 progress: 86.95 %\n"
          ],
          "name": "stdout"
        },
        {
          "output_type": "display_data",
          "data": {
            "text/plain": [
              "<Figure size 432x288 with 0 Axes>"
            ]
          },
          "metadata": {
            "tags": []
          }
        },
        {
          "output_type": "stream",
          "text": [
            "current minibatch loss 0.115594089031 progress: 93.91 %\n",
            "started epoch 7\n"
          ],
          "name": "stdout"
        },
        {
          "output_type": "display_data",
          "data": {
            "text/plain": [
              "<Figure size 432x288 with 0 Axes>"
            ]
          },
          "metadata": {
            "tags": []
          }
        },
        {
          "output_type": "stream",
          "text": [
            "current minibatch loss 0.116103842854 progress: 1.39 %\n"
          ],
          "name": "stdout"
        },
        {
          "output_type": "display_data",
          "data": {
            "text/plain": [
              "<Figure size 432x288 with 0 Axes>"
            ]
          },
          "metadata": {
            "tags": []
          }
        },
        {
          "output_type": "stream",
          "text": [
            "current minibatch loss 0.106269560754 progress: 8.35 %\n"
          ],
          "name": "stdout"
        },
        {
          "output_type": "display_data",
          "data": {
            "text/plain": [
              "<Figure size 432x288 with 0 Axes>"
            ]
          },
          "metadata": {
            "tags": []
          }
        },
        {
          "output_type": "stream",
          "text": [
            "current minibatch loss 0.0947474837303 progress: 15.3 %\n"
          ],
          "name": "stdout"
        },
        {
          "output_type": "display_data",
          "data": {
            "text/plain": [
              "<Figure size 432x288 with 0 Axes>"
            ]
          },
          "metadata": {
            "tags": []
          }
        },
        {
          "output_type": "stream",
          "text": [
            "current minibatch loss 0.107760898769 progress: 22.26 %\n"
          ],
          "name": "stdout"
        },
        {
          "output_type": "display_data",
          "data": {
            "text/plain": [
              "<Figure size 432x288 with 0 Axes>"
            ]
          },
          "metadata": {
            "tags": []
          }
        },
        {
          "output_type": "stream",
          "text": [
            "current minibatch loss 0.156750753522 progress: 29.22 %\n"
          ],
          "name": "stdout"
        },
        {
          "output_type": "display_data",
          "data": {
            "text/plain": [
              "<Figure size 432x288 with 0 Axes>"
            ]
          },
          "metadata": {
            "tags": []
          }
        },
        {
          "output_type": "stream",
          "text": [
            "current minibatch loss 0.0916485786438 progress: 36.17 %\n"
          ],
          "name": "stdout"
        },
        {
          "output_type": "display_data",
          "data": {
            "text/plain": [
              "<Figure size 432x288 with 0 Axes>"
            ]
          },
          "metadata": {
            "tags": []
          }
        },
        {
          "output_type": "stream",
          "text": [
            "current minibatch loss 0.120981879532 progress: 43.13 %\n"
          ],
          "name": "stdout"
        },
        {
          "output_type": "display_data",
          "data": {
            "text/plain": [
              "<Figure size 432x288 with 0 Axes>"
            ]
          },
          "metadata": {
            "tags": []
          }
        },
        {
          "output_type": "stream",
          "text": [
            "current minibatch loss 0.07517465204 progress: 50.08 %\n"
          ],
          "name": "stdout"
        },
        {
          "output_type": "display_data",
          "data": {
            "text/plain": [
              "<Figure size 432x288 with 0 Axes>"
            ]
          },
          "metadata": {
            "tags": []
          }
        },
        {
          "output_type": "stream",
          "text": [
            "current minibatch loss 0.0956170111895 progress: 57.04 %\n"
          ],
          "name": "stdout"
        },
        {
          "output_type": "display_data",
          "data": {
            "text/plain": [
              "<Figure size 432x288 with 0 Axes>"
            ]
          },
          "metadata": {
            "tags": []
          }
        },
        {
          "output_type": "stream",
          "text": [
            "current minibatch loss 0.129915758967 progress: 64.0 %\n"
          ],
          "name": "stdout"
        },
        {
          "output_type": "display_data",
          "data": {
            "text/plain": [
              "<Figure size 432x288 with 0 Axes>"
            ]
          },
          "metadata": {
            "tags": []
          }
        },
        {
          "output_type": "stream",
          "text": [
            "current minibatch loss 0.0893177464604 progress: 70.95 %\n"
          ],
          "name": "stdout"
        },
        {
          "output_type": "display_data",
          "data": {
            "text/plain": [
              "<Figure size 432x288 with 0 Axes>"
            ]
          },
          "metadata": {
            "tags": []
          }
        },
        {
          "output_type": "stream",
          "text": [
            "current minibatch loss 0.103583775461 progress: 77.91 %\n"
          ],
          "name": "stdout"
        },
        {
          "output_type": "display_data",
          "data": {
            "text/plain": [
              "<Figure size 432x288 with 0 Axes>"
            ]
          },
          "metadata": {
            "tags": []
          }
        },
        {
          "output_type": "stream",
          "text": [
            "current minibatch loss 0.0846515372396 progress: 84.86 %\n"
          ],
          "name": "stdout"
        },
        {
          "output_type": "display_data",
          "data": {
            "text/plain": [
              "<Figure size 432x288 with 0 Axes>"
            ]
          },
          "metadata": {
            "tags": []
          }
        },
        {
          "output_type": "stream",
          "text": [
            "current minibatch loss 0.0644067823887 progress: 91.82 %\n"
          ],
          "name": "stdout"
        },
        {
          "output_type": "display_data",
          "data": {
            "text/plain": [
              "<Figure size 432x288 with 0 Axes>"
            ]
          },
          "metadata": {
            "tags": []
          }
        },
        {
          "output_type": "stream",
          "text": [
            "current minibatch loss 0.0713589340448 progress: 98.78 %\n"
          ],
          "name": "stdout"
        }
      ]
    },
    {
      "cell_type": "code",
      "metadata": {
        "id": "gvscNhwzb5dz",
        "colab_type": "code",
        "colab": {}
      },
      "source": [
        "class DepModel:\n",
        "    def __init__(self):\n",
        "        '''\n",
        "            You can add more arguments for examples actions and model paths.\n",
        "            You need to load your model here.\n",
        "            actions: provides indices for actions.\n",
        "            it has the same order as the data/vocabs.actions file.\n",
        "        '''\n",
        "        # if you prefer to have your own index for actions, change this.\n",
        "        self.actions = ['SHIFT', 'LEFT-ARC:rroot', 'LEFT-ARC:cc', 'LEFT-ARC:number', 'LEFT-ARC:ccomp', 'LEFT-ARC:possessive', 'LEFT-ARC:prt', 'LEFT-ARC:num', 'LEFT-ARC:nsubjpass', 'LEFT-ARC:csubj', 'LEFT-ARC:conj', 'LEFT-ARC:dobj', 'LEFT-ARC:nn', 'LEFT-ARC:neg', 'LEFT-ARC:discourse', 'LEFT-ARC:mark', 'LEFT-ARC:auxpass', 'LEFT-ARC:infmod', 'LEFT-ARC:mwe', 'LEFT-ARC:advcl', 'LEFT-ARC:aux', 'LEFT-ARC:prep', 'LEFT-ARC:parataxis', 'LEFT-ARC:nsubj', 'LEFT-ARC:<null>', 'LEFT-ARC:rcmod', 'LEFT-ARC:advmod', 'LEFT-ARC:punct', 'LEFT-ARC:quantmod', 'LEFT-ARC:tmod', 'LEFT-ARC:acomp', 'LEFT-ARC:pcomp', 'LEFT-ARC:poss', 'LEFT-ARC:npadvmod', 'LEFT-ARC:xcomp', 'LEFT-ARC:cop', 'LEFT-ARC:partmod', 'LEFT-ARC:dep', 'LEFT-ARC:appos', 'LEFT-ARC:det', 'LEFT-ARC:amod', 'LEFT-ARC:pobj', 'LEFT-ARC:iobj', 'LEFT-ARC:expl', 'LEFT-ARC:predet', 'LEFT-ARC:preconj', 'LEFT-ARC:root', 'RIGHT-ARC:rroot', 'RIGHT-ARC:cc', 'RIGHT-ARC:number', 'RIGHT-ARC:ccomp', 'RIGHT-ARC:possessive', 'RIGHT-ARC:prt', 'RIGHT-ARC:num', 'RIGHT-ARC:nsubjpass', 'RIGHT-ARC:csubj', 'RIGHT-ARC:conj', 'RIGHT-ARC:dobj', 'RIGHT-ARC:nn', 'RIGHT-ARC:neg', 'RIGHT-ARC:discourse', 'RIGHT-ARC:mark', 'RIGHT-ARC:auxpass', 'RIGHT-ARC:infmod', 'RIGHT-ARC:mwe', 'RIGHT-ARC:advcl', 'RIGHT-ARC:aux', 'RIGHT-ARC:prep', 'RIGHT-ARC:parataxis', 'RIGHT-ARC:nsubj', 'RIGHT-ARC:<null>', 'RIGHT-ARC:rcmod', 'RIGHT-ARC:advmod', 'RIGHT-ARC:punct', 'RIGHT-ARC:quantmod', 'RIGHT-ARC:tmod', 'RIGHT-ARC:acomp', 'RIGHT-ARC:pcomp', 'RIGHT-ARC:poss', 'RIGHT-ARC:npadvmod', 'RIGHT-ARC:xcomp', 'RIGHT-ARC:cop', 'RIGHT-ARC:partmod', 'RIGHT-ARC:dep', 'RIGHT-ARC:appos', 'RIGHT-ARC:det', 'RIGHT-ARC:amod', 'RIGHT-ARC:pobj', 'RIGHT-ARC:iobj', 'RIGHT-ARC:expl', 'RIGHT-ARC:predet', 'RIGHT-ARC:preconj', 'RIGHT-ARC:root']\n",
        "        # write your code here for additional parameters.\n",
        "        # feel free to add more arguments to the initializer.\n",
        "        prop = NetProperties(64, 32, 32, 200, 1000, 7)\n",
        "        dataset = DataSet();\n",
        "        self.network = Network(prop, dataset)\n",
        "\n",
        "        self.network.load(\"/content/drive/My Drive/NLP/model.md5\")\n",
        "        self.data = DataSet()\n",
        "\n",
        "    def score(self, str_features):\n",
        "        '''\n",
        "        :param str_features: String features\n",
        "        20 first: words, next 20: pos, next 12: dependency labels.\n",
        "        DO NOT ADD ANY ARGUMENTS TO THIS FUNCTION.\n",
        "        :return: list of scores\n",
        "        '''\n",
        "        # change this part of the code.\n",
        "        word = self.data.prepare_data_predict(str_features, self.data.vocabs_word, 0, 20)\n",
        "        pos = self.data.prepare_data_predict(str_features, self.data.vocabs_pos, 20, 40)\n",
        "        label = self.data.prepare_data_predict(str_features, self.data.vocabs_label, 40, 52)\n",
        "        scores = self.network.decode(word, pos, label)\n",
        "        return scores.tolist()"
      ],
      "execution_count": 0,
      "outputs": []
    },
    {
      "cell_type": "code",
      "metadata": {
        "id": "vkwbOnT4cD9J",
        "colab_type": "code",
        "colab": {}
      },
      "source": [
        "class Decoder:\n",
        "    def __init__(self, score_fn, rindex):\n",
        "        self.fn = score_fn\n",
        "        self.map = rindex\n",
        "\n",
        "    def parse(self, f, of):\n",
        "        outputs = []\n",
        "        for k, sen in enumerate(read_conll(f)):\n",
        "            conf = Configuration.parse(sen, self.map, self.fn)\n",
        "            for i, arc in enumerate(conf.arcs[1:]):\n",
        "               sen[i + 1].head, sen[i+1].relation = arc[0], arc[1]\n",
        "            outputs.append(sen)\n",
        "            if (k + 1) % 100 == 0:\n",
        "                sys.stdout.write(str(k + 1) + '...')\n",
        "        sys.stdout.write('\\n')\n",
        "        write_conll(of, outputs)"
      ],
      "execution_count": 0,
      "outputs": []
    },
    {
      "cell_type": "code",
      "metadata": {
        "id": "iWehft7_cJd6",
        "colab_type": "code",
        "colab": {}
      },
      "source": [
        "class Configuration:\n",
        "    def __init__(self, entries):\n",
        "        self.stack = [0]\n",
        "        self.entries = entries\n",
        "        self.buffer = [e.id for e in entries[1:]]\n",
        "        #print(self.buffer)\n",
        "        self.arcs = [(-1, '') for _ in entries]\n",
        "        self.lm = [-1 for _ in entries]  # left-most modifier\n",
        "        self.rm = [-1 for _ in entries]  # right-most modifier\n",
        "        self.lm2 = [-1 for _ in entries]  # 2nd left-most modifier\n",
        "        self.rm2 = [-1 for _ in entries]  # 2nd right-most modifier\n",
        "\n",
        "    def next_gold_action(self):\n",
        "        if len(self.stack) < 2:\n",
        "            assert len(self.buffer)>0\n",
        "            return 'SHIFT', None\n",
        "        else:\n",
        "            s0 = self.stack[-1] if len(self.stack) > 0 else None\n",
        "            s1 = self.stack[-2] if len(self.stack) > 1 else None\n",
        "\n",
        "            if s0 == self.entries[s1].head:\n",
        "                return 'LEFT-ARC', self.entries[s1].relation\n",
        "            elif s1 == self.entries[s0].head:\n",
        "                valence_complete = True\n",
        "                for j in self.buffer:\n",
        "                    if self.entries[j].head == s0:\n",
        "                        valence_complete = False\n",
        "                        break\n",
        "                if valence_complete:\n",
        "                    return 'RIGHT-ARC', self.entries[s0].relation\n",
        "                else:\n",
        "                    assert len(self.buffer) > 0\n",
        "                    return 'SHIFT', None\n",
        "            else:\n",
        "                assert len(self.buffer) > 0\n",
        "                return 'SHIFT', None\n",
        "\n",
        "    def do(self, action, label=''):\n",
        "        if action == 'SHIFT':\n",
        "            self.stack.append(self.buffer.pop(0))\n",
        "        elif action == 'RIGHT-ARC':\n",
        "            if self.rm[self.stack[-2]] != -1:\n",
        "                self.rm2[self.stack[-2]] = self.rm[self.stack[-2]]\n",
        "            self.rm[self.stack[-2]] = self.stack[-1]\n",
        "            self.arcs[self.stack[-1]] = self.stack[-2], label\n",
        "            self.stack.pop(-1)\n",
        "        elif action == 'LEFT-ARC':\n",
        "            if self.lm[self.stack[-1]] == -1 or self.lm[self.stack[-1]] > self.stack[-2]:\n",
        "                if self.lm[self.stack[-1]] != -1:\n",
        "                    self.lm2[self.stack[-1]] = self.lm[self.stack[-1]]\n",
        "                self.lm[self.stack[-1]] = self.stack[-2]\n",
        "            self.arcs[self.stack[-2]] = self.stack[-1], label\n",
        "            self.stack.pop(-2)\n",
        "\n",
        "    def doable_actions(self):\n",
        "        actions = set()\n",
        "        if len(self.buffer) > 0:\n",
        "            actions.add('SHIFT')\n",
        "        if len(self.stack) >= 2:\n",
        "            actions.add('RIGHT-ARC')\n",
        "        if len(self.stack) >= 2 and self.stack[-2] != 0:\n",
        "            actions.add('LEFT-ARC')\n",
        "        return actions\n",
        "\n",
        "    def is_terminal_state(self):\n",
        "        return len(self.stack) == 1 and len(self.buffer) == 0\n",
        "\n",
        "    def feature_ids(self):\n",
        "        s0 = self.stack[-1] if len(self.stack) > 0 else None\n",
        "        s1 = self.stack[-2] if len(self.stack) > 1 else None\n",
        "        s2 = self.stack[-3] if len(self.stack) > 2 else None\n",
        "        s3 = self.stack[-4] if len(self.stack) > 3 else None\n",
        "        b0 = self.buffer[0] if len(self.buffer) > 0 else None\n",
        "        b1 = self.buffer[1] if len(self.buffer) > 1 else None\n",
        "        b2 = self.buffer[2] if len(self.buffer) > 2 else None\n",
        "        b3 = self.buffer[3] if len(self.buffer) > 3 else None\n",
        "        s0l = self.lm[s0] if s0 and self.lm[s0] > -1 else None\n",
        "        s1l = self.lm[s1] if s1 and self.lm[s1] > -1 else None\n",
        "        s0r = self.rm[s0] if s0 and self.rm[s0] > -1 else None\n",
        "        s1r = self.rm[s1] if s1 and self.rm[s1] > -1 else None\n",
        "        s0l2 = self.lm2[s0] if s0 and self.lm2[s0] > -1 else None\n",
        "        s1l2 = self.lm2[s1] if s1 and self.lm2[s1] > -1 else None\n",
        "        s0r2 = self.rm2[s0] if s0 and self.rm2[s0] > -1 else None\n",
        "        s1r2 = self.rm2[s1] if s1 and self.rm2[s1] > -1 else None\n",
        "        s0r1r1 = self.rm[s0r] if s0r and self.rm[s0r]>-1 else None\n",
        "        s1r1r1 = self.rm[s1r] if s1r and self.rm[s1r]>-1 else None\n",
        "        s0l1l1 = self.lm[s0l] if s0l and self.lm[s0l] > -1 else None\n",
        "        s1l1l1 = self.lm[s1l] if s1l and self.lm[s1l] > -1 else None\n",
        "        return [s0,s1,s2,s3,b0,b1,b2,b3,s0l,s1l,s0r,s1r,s0l2,s1l2,s0r2,s1r2,s0r1r1,s1r1r1,s0l1l1,s1l1l1]\n",
        "\n",
        "    def features(self):\n",
        "        feats = self.feature_ids()\n",
        "        word_feats, pos_feats, label_feats = [], [], []\n",
        "        for i,f in enumerate(feats):\n",
        "            word_feats.append(self.entries[f].form) if f is not None else word_feats.append('<null>')\n",
        "            pos_feats.append(self.entries[f].pos) if f is not None else pos_feats.append('<null>')\n",
        "            if i>=8:\n",
        "                label_feats.append(self.arcs[f][1]) if f and self.arcs[f][0]!=-1 is not None else label_feats.append('<null>')\n",
        "        return word_feats, pos_feats, label_feats\n",
        "\n",
        "    def preprocess_score(self, scores, rlabel):\n",
        "        '''\n",
        "        With respect to possible actions\n",
        "        :param scores:\n",
        "        :return:\n",
        "        '''\n",
        "        da = self.doable_actions()\n",
        "        can_shift = True if 'SHIFT' in da else False\n",
        "        can_left_arc = True if 'LEFT-ARC' in da else False\n",
        "        can_right_arc = True if 'RIGHT-ARC' in da else False\n",
        "        for i in range(len(scores)):\n",
        "            if not can_shift and rlabel[i] == 'SHIFT':\n",
        "                scores[i] = -float('inf')\n",
        "            elif not can_left_arc and rlabel[i].startswith('LEFT-ARC'):\n",
        "                scores[i] = -float('inf')\n",
        "            elif not can_right_arc and rlabel[i].startswith('RIGHT-ARC'):\n",
        "                scores[i] = -float('inf')\n",
        "\n",
        "    @staticmethod\n",
        "    def parse(sen, rlabel, score_fn):\n",
        "        conf = Configuration(sen)\n",
        "        while not conf.is_terminal_state():\n",
        "            wf, pf, lf = conf.features()\n",
        "            scores = score_fn(wf + pf + lf)\n",
        "            conf.preprocess_score(scores, rlabel)\n",
        "            best_act = np.argmax(scores)\n",
        "            act, label = 'SHIFT', ''\n",
        "            if rlabel[best_act] != 'SHIFT':\n",
        "                act, label = rlabel[best_act].split(':')\n",
        "            conf.do(act, label)\n",
        "        return conf"
      ],
      "execution_count": 0,
      "outputs": []
    },
    {
      "cell_type": "code",
      "metadata": {
        "id": "ZTjkcyowcO5Q",
        "colab_type": "code",
        "colab": {}
      },
      "source": [
        "import re, codecs\n",
        "class DependencyToken:\n",
        "    def __init__(self, id, form, lemma, pos, cpos, feats=None, parent_id=None, relation=None, deps=None, misc=None):\n",
        "        self.id = id\n",
        "        self.form = form\n",
        "        self.norm = normalize(form)\n",
        "        self.cpos = cpos\n",
        "        self.pos = pos\n",
        "        self.head = parent_id\n",
        "        self.relation = relation\n",
        "\n",
        "        self.lemma = lemma\n",
        "        self.feats = feats\n",
        "        self.deps = deps\n",
        "        self.misc = misc\n",
        "\n",
        "    def __str__(self):\n",
        "        values = [str(self.id), self.form, self.lemma, self.cpos, self.pos, self.feats,\n",
        "                  str(self.head), self.relation, self.deps, self.misc]\n",
        "        return u'\\t'.join([u'_' if v is None else v for v in values])\n",
        "\n",
        "\n",
        "def traverse(rev_head, h, visited):\n",
        "    if rev_head.has_key(h):\n",
        "        for d in rev_head[h]:\n",
        "            if d in visited:\n",
        "                return True\n",
        "            visited.append(d)\n",
        "            traverse(rev_head, d, visited)\n",
        "    return False\n",
        "\n",
        "\n",
        "def is_projective(heads):\n",
        "    '''\n",
        "    Decides if the set of heads for tree is projective.\n",
        "    :param heads:\n",
        "    :return: True if projective, else False.\n",
        "    '''\n",
        "    rev_head = defaultdict(list)\n",
        "    for dep1 in range(1, len(heads) + 1):\n",
        "        head1 = heads[dep1 - 1]\n",
        "        if head1 >= 0:\n",
        "            rev_head[head1].append(dep1)\n",
        "\n",
        "    visited = list()\n",
        "    if traverse(rev_head, 0, visited):\n",
        "        return False\n",
        "    if len(visited) < len(heads):\n",
        "        return False\n",
        "\n",
        "    root_n = 0\n",
        "    for dep1 in range(1, len(heads) + 1):\n",
        "        head1 = heads[dep1 - 1]\n",
        "\n",
        "        if rev_head.has_key(dep1):\n",
        "            for d2 in rev_head[dep1]:\n",
        "                if (d2 < head1 < dep1) or (d2 > head1 > dep1) and head1 > 0:\n",
        "                    return False\n",
        "\n",
        "        if head1 == 0:\n",
        "            root_n += 1\n",
        "        for dep2 in range(1, len(heads) + 1):\n",
        "            head2 = heads[dep2 - 1]\n",
        "            if head1 == -1 or head2 == -1:\n",
        "                continue\n",
        "            if dep1 > head1 != head2:\n",
        "                if dep2 > dep1 > head2 > head1:\n",
        "                    return False\n",
        "                if head2 > dep1 > dep2 > head1:\n",
        "                    return False\n",
        "            if dep1 < head1 != head2:\n",
        "                if dep2 > head1 > head2 > dep1:\n",
        "                    return False\n",
        "                if head2 > head1 > dep2 > dep1:\n",
        "                    return False\n",
        "    if root_n != 1:\n",
        "        return False\n",
        "    return True\n",
        "\n",
        "\n",
        "def read_conll(fh, test=False):\n",
        "    '''\n",
        "    This function reads a CoNLL file and returns a list of @ConllEntry objects.\n",
        "    :param fh: file\n",
        "    :return: a list of @ConllEntry objects\n",
        "    '''\n",
        "    root = DependencyToken(0, '<root>', '<root>', '<root>', '<root>', '_', -1, 'rroot', '_', '_')\n",
        "    tokens = [root]\n",
        "    for line in codecs.open(fh, 'r', encoding='UTF-8'):\n",
        "        tok = line.strip().split('\\t')\n",
        "        if not tok or line.strip() == '':\n",
        "            if len(tokens) > 1: yield tokens\n",
        "            tokens = [root]\n",
        "        else:\n",
        "            if line[0] == '#' or '-' in tok[0] or '.' in tok[0]:\n",
        "                tokens.append(line.strip())\n",
        "            else:\n",
        "                tokens.append(DependencyToken(int(tok[0]), tok[1], tok[2], tok[3], tok[4], tok[5],\n",
        "                                             -1 if test else int(tok[6]) if tok[6] != '_' else -1,'_'  if test else tok[7], tok[8], tok[9]))\n",
        "    if len(tokens) > 1:\n",
        "        yield tokens\n",
        "\n",
        "\n",
        "def write_conll(fn, conll_gen):\n",
        "    '''\n",
        "    Writes a conll file\n",
        "    :param fn: output path.\n",
        "    :param conll_gen: Generator for conll file (a list of @ConllEntry objects).\n",
        "    :return:\n",
        "    '''\n",
        "    with codecs.open(fn, 'w', encoding='utf-8') as fh:\n",
        "        for sentence in conll_gen:\n",
        "            for entry in sentence[1:]:\n",
        "                fh.write(str(entry) + u'\\n')\n",
        "            fh.write('\\n')\n",
        "\n",
        "\n",
        "def eval(gold, predicted):\n",
        "    '''\n",
        "    Evaluates the output vs. gold.\n",
        "    :param gold: Gold Conll file.\n",
        "    :param predicted: Predicted Conll file.\n",
        "    :return: Unlabeled attachment accuracy (UAS), labeled attachment accuracy (LAS).\n",
        "    '''\n",
        "    correct_deps, correct_l, all_deps = 0, 0, 0\n",
        "    r2 = open(predicted, 'r')\n",
        "    for l1 in open(gold, 'r'):\n",
        "        s1 = l1.strip().split('\\t')\n",
        "        s2 = r2.readline().strip().split('\\t')\n",
        "        if len(s1) > 6:\n",
        "            if not is_punc(s2[3]):\n",
        "                all_deps += 1\n",
        "                if s1[6] == s2[6]:\n",
        "                    correct_deps += 1\n",
        "                    if s1[7] == s2[7]:\n",
        "                        correct_l += 1\n",
        "    return 100 * float(correct_deps) / all_deps, 100 * float(correct_l) / all_deps\n",
        "\n",
        "\n",
        "numberRegex = re.compile(\"[0-9]+|[0-9]+\\\\.[0-9]+|[0-9]+[0-9,]+\");\n",
        "\n",
        "\n",
        "def normalize(word):\n",
        "    return 'NUM' if numberRegex.match(word) else word.lower()\n",
        "\n",
        "\n",
        "def is_punc(pos):\n",
        "    return pos == '.' or pos == 'PUNC' or pos == 'PUNCT' or \\\n",
        "           pos == \"#\" or pos == \"''\" or pos == \"(\" or \\\n",
        "           pos == \"[\" or pos == \"]\" or pos == \"{\" or pos == \"}\" or \\\n",
        "           pos == \"\\\"\" or pos == \",\" or pos == \".\" or pos == \":\" or \\\n",
        "           pos == \"``\" or pos == \"-LRB-\" or pos == \"-RRB-\" or pos == \"-LSB-\" or \\\n",
        "           pos == \"-RSB-\" or pos == \"-LCB-\" or pos == \"-RCB-\" or pos == '\"' or pos == ')'"
      ],
      "execution_count": 0,
      "outputs": []
    },
    {
      "cell_type": "code",
      "metadata": {
        "id": "d1OZbKN-cY8H",
        "colab_type": "code",
        "outputId": "a859faa6-4748-477e-c1af-1068be237ddf",
        "colab": {
          "base_uri": "https://localhost:8080/",
          "height": 34
        }
      },
      "source": [
        "import sys\n",
        "input_p = \"/content/drive/My Drive/NLP/trees/dev.conll\"\n",
        "output_p = \"/content/drive/My Drive/NLP/output_dev\"\n",
        "dataset = DataSet()\n",
        "tag2action = dict(zip(dataset.vocabs_action.iloc[:,1], dataset.vocabs_action.iloc[:,0]))\n",
        "\n",
        "m = DepModel()\n",
        "Decoder(m.score, m.actions).parse(input_p, output_p)"
      ],
      "execution_count": 12,
      "outputs": [
        {
          "output_type": "stream",
          "text": [
            "100...200...300...400...500...600...700...800...900...1000...1100...1200...1300...1400...1500...1600...1700...\n"
          ],
          "name": "stdout"
        }
      ]
    }
  ]
}